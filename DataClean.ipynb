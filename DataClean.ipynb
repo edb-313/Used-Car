{
 "cells": [
  {
   "cell_type": "code",
   "execution_count": 1,
   "id": "e1a9c488",
   "metadata": {},
   "outputs": [],
   "source": [
    "import pandas as pd\n",
    "import numpy as np\n",
    "import os\n",
    "from mpl_toolkits.basemap import Basemap\n",
    "import matplotlib.pyplot as plt\n",
    "import seaborn as sns\n",
    "\n",
    "os.chdir('C:/Users/39329/OneDrive - ISEG/000 Dissertation/Used Car/Code')"
   ]
  },
  {
   "cell_type": "code",
   "execution_count": 2,
   "id": "83156329",
   "metadata": {},
   "outputs": [],
   "source": [
    "df_original = pd.read_csv(\"Dataset/vehicles.csv\")"
   ]
  },
  {
   "cell_type": "code",
   "execution_count": 3,
   "id": "2f2513de",
   "metadata": {},
   "outputs": [],
   "source": [
    "df = df_original.copy()"
   ]
  },
  {
   "cell_type": "code",
   "execution_count": 4,
   "id": "60f5643a",
   "metadata": {},
   "outputs": [
    {
     "name": "stdout",
     "output_type": "stream",
     "text": [
      "<class 'pandas.core.frame.DataFrame'>\n",
      "RangeIndex: 426880 entries, 0 to 426879\n",
      "Data columns (total 26 columns):\n",
      " #   Column        Non-Null Count   Dtype  \n",
      "---  ------        --------------   -----  \n",
      " 0   id            426880 non-null  int64  \n",
      " 1   url           426880 non-null  object \n",
      " 2   region        426880 non-null  object \n",
      " 3   region_url    426880 non-null  object \n",
      " 4   price         426880 non-null  int64  \n",
      " 5   year          425675 non-null  float64\n",
      " 6   manufacturer  409234 non-null  object \n",
      " 7   model         421603 non-null  object \n",
      " 8   condition     252776 non-null  object \n",
      " 9   cylinders     249202 non-null  object \n",
      " 10  fuel          423867 non-null  object \n",
      " 11  odometer      422480 non-null  float64\n",
      " 12  title_status  418638 non-null  object \n",
      " 13  transmission  424324 non-null  object \n",
      " 14  VIN           265838 non-null  object \n",
      " 15  drive         296313 non-null  object \n",
      " 16  size          120519 non-null  object \n",
      " 17  type          334022 non-null  object \n",
      " 18  paint_color   296677 non-null  object \n",
      " 19  image_url     426812 non-null  object \n",
      " 20  description   426810 non-null  object \n",
      " 21  county        0 non-null       float64\n",
      " 22  state         426880 non-null  object \n",
      " 23  lat           420331 non-null  float64\n",
      " 24  long          420331 non-null  float64\n",
      " 25  posting_date  426812 non-null  object \n",
      "dtypes: float64(5), int64(2), object(19)\n",
      "memory usage: 84.7+ MB\n"
     ]
    }
   ],
   "source": [
    "df.info()"
   ]
  },
  {
   "cell_type": "markdown",
   "id": "e9a6f3f6",
   "metadata": {},
   "source": [
    "County has 0 non-null values. Let's proceed removing not columns certainly not relevant for the purpose of the exercise."
   ]
  },
  {
   "cell_type": "code",
   "execution_count": 5,
   "id": "fe2635c7",
   "metadata": {},
   "outputs": [],
   "source": [
    "drop_columns = ['url','region_url','VIN','image_url','county']\n",
    "df.drop(columns = drop_columns,inplace=True)"
   ]
  },
  {
   "cell_type": "markdown",
   "id": "16ec6459",
   "metadata": {},
   "source": [
    "Let's drop all null values."
   ]
  },
  {
   "cell_type": "code",
   "execution_count": 6,
   "id": "2ab8dfc2",
   "metadata": {},
   "outputs": [],
   "source": [
    "df.dropna(inplace=True)"
   ]
  },
  {
   "cell_type": "code",
   "execution_count": 7,
   "id": "83cd7cc9",
   "metadata": {},
   "outputs": [
    {
     "data": {
      "text/html": [
       "<div>\n",
       "<style scoped>\n",
       "    .dataframe tbody tr th:only-of-type {\n",
       "        vertical-align: middle;\n",
       "    }\n",
       "\n",
       "    .dataframe tbody tr th {\n",
       "        vertical-align: top;\n",
       "    }\n",
       "\n",
       "    .dataframe thead th {\n",
       "        text-align: right;\n",
       "    }\n",
       "</style>\n",
       "<table border=\"1\" class=\"dataframe\">\n",
       "  <thead>\n",
       "    <tr style=\"text-align: right;\">\n",
       "      <th></th>\n",
       "      <th>id</th>\n",
       "      <th>region</th>\n",
       "      <th>price</th>\n",
       "      <th>year</th>\n",
       "      <th>manufacturer</th>\n",
       "      <th>model</th>\n",
       "      <th>condition</th>\n",
       "      <th>cylinders</th>\n",
       "      <th>fuel</th>\n",
       "      <th>odometer</th>\n",
       "      <th>...</th>\n",
       "      <th>transmission</th>\n",
       "      <th>drive</th>\n",
       "      <th>size</th>\n",
       "      <th>type</th>\n",
       "      <th>paint_color</th>\n",
       "      <th>description</th>\n",
       "      <th>state</th>\n",
       "      <th>lat</th>\n",
       "      <th>long</th>\n",
       "      <th>posting_date</th>\n",
       "    </tr>\n",
       "  </thead>\n",
       "  <tbody>\n",
       "  </tbody>\n",
       "</table>\n",
       "<p>0 rows × 21 columns</p>\n",
       "</div>"
      ],
      "text/plain": [
       "Empty DataFrame\n",
       "Columns: [id, region, price, year, manufacturer, model, condition, cylinders, fuel, odometer, title_status, transmission, drive, size, type, paint_color, description, state, lat, long, posting_date]\n",
       "Index: []\n",
       "\n",
       "[0 rows x 21 columns]"
      ]
     },
     "execution_count": 7,
     "metadata": {},
     "output_type": "execute_result"
    }
   ],
   "source": [
    "df[df.duplicated()]"
   ]
  },
  {
   "cell_type": "markdown",
   "id": "91ebdf1f",
   "metadata": {},
   "source": [
    "No duplicates"
   ]
  },
  {
   "cell_type": "markdown",
   "id": "7e7eed1e",
   "metadata": {},
   "source": [
    "## EDA"
   ]
  },
  {
   "cell_type": "markdown",
   "id": "8e8f645d",
   "metadata": {},
   "source": [
    "### Location"
   ]
  },
  {
   "cell_type": "raw",
   "id": "e71c56a8",
   "metadata": {},
   "source": [
    "#create a sample of 5% of items\n",
    "df_sample = df.sample(frac = 0.05)\n",
    "\n",
    "#create my map\n",
    "plt.figure(figsize=(12,6))\n",
    "m = Basemap(projection='mill',\n",
    "            llcrnrlat = 25,\n",
    "            llcrnrlon = -170,\n",
    "            urcrnrlat = 80,\n",
    "            urcrnrlon = -60,\n",
    "            resolution='l')\n",
    "m.drawcoastlines()\n",
    "m.drawcountries(linewidth=2)\n",
    "m.drawstates(color='b')\n",
    "\n",
    "#plot my points\n",
    "lat = df_sample['lat'].tolist()\n",
    "lon = df_sample['long'].tolist()\n",
    "m.scatter(lon, lat, latlon = True, s = 1, c = 'red', marker = 'o', alpha = 1)\n",
    "\n",
    "plt.show()\n"
   ]
  },
  {
   "cell_type": "markdown",
   "id": "991580ab",
   "metadata": {},
   "source": [
    "Most of the cars are in the East part of the U.S."
   ]
  },
  {
   "cell_type": "markdown",
   "id": "6a0b9d80",
   "metadata": {},
   "source": [
    "### Price"
   ]
  },
  {
   "cell_type": "code",
   "execution_count": 8,
   "id": "d0d995c6",
   "metadata": {},
   "outputs": [
    {
     "data": {
      "text/plain": [
       "0       3426\n",
       "4500     996\n",
       "3500     986\n",
       "6500     932\n",
       "5500     871\n",
       "7500     840\n",
       "1        830\n",
       "2500     781\n",
       "8500     726\n",
       "6995     707\n",
       "Name: price, dtype: int64"
      ]
     },
     "execution_count": 8,
     "metadata": {},
     "output_type": "execute_result"
    }
   ],
   "source": [
    "df['price'].value_counts().iloc[:10]"
   ]
  },
  {
   "cell_type": "raw",
   "id": "b8574a3e",
   "metadata": {},
   "source": [
    "df[df['price'] == 0].iloc[0:10]"
   ]
  },
  {
   "cell_type": "markdown",
   "id": "271ca648",
   "metadata": {},
   "source": [
    "Remove rows where price is 0"
   ]
  },
  {
   "cell_type": "code",
   "execution_count": 9,
   "id": "5f0079bb",
   "metadata": {},
   "outputs": [],
   "source": [
    "df = df[df['price'] != 0]\n",
    "df.reset_index(drop=True,inplace=True)"
   ]
  },
  {
   "cell_type": "code",
   "execution_count": 10,
   "id": "bcd872d8",
   "metadata": {
    "scrolled": false
   },
   "outputs": [
    {
     "data": {
      "text/plain": [
       "count    7.559000e+04\n",
       "mean     8.319700e+04\n",
       "std      1.420277e+07\n",
       "min      1.000000e+00\n",
       "25%      5.495000e+03\n",
       "50%      9.800000e+03\n",
       "75%      1.799500e+04\n",
       "max      3.736929e+09\n",
       "Name: price, dtype: float64"
      ]
     },
     "execution_count": 10,
     "metadata": {},
     "output_type": "execute_result"
    }
   ],
   "source": [
    "df.price.describe()"
   ]
  },
  {
   "cell_type": "markdown",
   "id": "7c23a7ba",
   "metadata": {},
   "source": [
    "Max value is too big, must be incorrect.\n",
    "Also, cars priced at 1 should be verified."
   ]
  },
  {
   "cell_type": "code",
   "execution_count": 11,
   "id": "7bf83c5c",
   "metadata": {
    "scrolled": true
   },
   "outputs": [
    {
     "data": {
      "text/html": [
       "<div>\n",
       "<style scoped>\n",
       "    .dataframe tbody tr th:only-of-type {\n",
       "        vertical-align: middle;\n",
       "    }\n",
       "\n",
       "    .dataframe tbody tr th {\n",
       "        vertical-align: top;\n",
       "    }\n",
       "\n",
       "    .dataframe thead th {\n",
       "        text-align: right;\n",
       "    }\n",
       "</style>\n",
       "<table border=\"1\" class=\"dataframe\">\n",
       "  <thead>\n",
       "    <tr style=\"text-align: right;\">\n",
       "      <th></th>\n",
       "      <th>price</th>\n",
       "      <th>manufacturer</th>\n",
       "      <th>model</th>\n",
       "      <th>cylinders</th>\n",
       "      <th>year</th>\n",
       "    </tr>\n",
       "  </thead>\n",
       "  <tbody>\n",
       "    <tr>\n",
       "      <th>57204</th>\n",
       "      <td>3736928711</td>\n",
       "      <td>toyota</td>\n",
       "      <td>tundra</td>\n",
       "      <td>8 cylinders</td>\n",
       "      <td>2007.0</td>\n",
       "    </tr>\n",
       "    <tr>\n",
       "      <th>4820</th>\n",
       "      <td>1111111111</td>\n",
       "      <td>ford</td>\n",
       "      <td>f350 super duty lariat</td>\n",
       "      <td>8 cylinders</td>\n",
       "      <td>1999.0</td>\n",
       "    </tr>\n",
       "    <tr>\n",
       "      <th>40592</th>\n",
       "      <td>135008900</td>\n",
       "      <td>nissan</td>\n",
       "      <td>titan se kingcab</td>\n",
       "      <td>8 cylinders</td>\n",
       "      <td>2008.0</td>\n",
       "    </tr>\n",
       "    <tr>\n",
       "      <th>23548</th>\n",
       "      <td>123456789</td>\n",
       "      <td>buick</td>\n",
       "      <td>regal</td>\n",
       "      <td>6 cylinders</td>\n",
       "      <td>1999.0</td>\n",
       "    </tr>\n",
       "    <tr>\n",
       "      <th>55755</th>\n",
       "      <td>123456789</td>\n",
       "      <td>gmc</td>\n",
       "      <td>sierra 2500</td>\n",
       "      <td>8 cylinders</td>\n",
       "      <td>1996.0</td>\n",
       "    </tr>\n",
       "    <tr>\n",
       "      <th>23342</th>\n",
       "      <td>17000000</td>\n",
       "      <td>ram</td>\n",
       "      <td>2500</td>\n",
       "      <td>8 cylinders</td>\n",
       "      <td>2007.0</td>\n",
       "    </tr>\n",
       "    <tr>\n",
       "      <th>11364</th>\n",
       "      <td>2000000</td>\n",
       "      <td>saturn</td>\n",
       "      <td>l-series l200 4dr sedan</td>\n",
       "      <td>4 cylinders</td>\n",
       "      <td>2002.0</td>\n",
       "    </tr>\n",
       "    <tr>\n",
       "      <th>26578</th>\n",
       "      <td>1234567</td>\n",
       "      <td>jeep</td>\n",
       "      <td>wrangler</td>\n",
       "      <td>6 cylinders</td>\n",
       "      <td>2006.0</td>\n",
       "    </tr>\n",
       "    <tr>\n",
       "      <th>38774</th>\n",
       "      <td>1111111</td>\n",
       "      <td>dodge</td>\n",
       "      <td>challenger</td>\n",
       "      <td>8 cylinders</td>\n",
       "      <td>1970.0</td>\n",
       "    </tr>\n",
       "    <tr>\n",
       "      <th>35392</th>\n",
       "      <td>195000</td>\n",
       "      <td>subaru</td>\n",
       "      <td>wrx</td>\n",
       "      <td>4 cylinders</td>\n",
       "      <td>2017.0</td>\n",
       "    </tr>\n",
       "  </tbody>\n",
       "</table>\n",
       "</div>"
      ],
      "text/plain": [
       "            price manufacturer                    model    cylinders    year\n",
       "57204  3736928711       toyota                   tundra  8 cylinders  2007.0\n",
       "4820   1111111111         ford   f350 super duty lariat  8 cylinders  1999.0\n",
       "40592   135008900       nissan         titan se kingcab  8 cylinders  2008.0\n",
       "23548   123456789        buick                    regal  6 cylinders  1999.0\n",
       "55755   123456789          gmc              sierra 2500  8 cylinders  1996.0\n",
       "23342    17000000          ram                     2500  8 cylinders  2007.0\n",
       "11364     2000000       saturn  l-series l200 4dr sedan  4 cylinders  2002.0\n",
       "26578     1234567         jeep                 wrangler  6 cylinders  2006.0\n",
       "38774     1111111        dodge               challenger  8 cylinders  1970.0\n",
       "35392      195000       subaru                      wrx  4 cylinders  2017.0"
      ]
     },
     "execution_count": 11,
     "metadata": {},
     "output_type": "execute_result"
    }
   ],
   "source": [
    "df[df['price'].isin(df['price'].nlargest(10))].loc[:,['price','manufacturer','model','cylinders','year']].sort_values(by='price',ascending = False)"
   ]
  },
  {
   "cell_type": "markdown",
   "id": "30c4fb8f",
   "metadata": {},
   "source": [
    "Top 10 posting by price are cleary incorrect and will be removed"
   ]
  },
  {
   "cell_type": "code",
   "execution_count": 12,
   "id": "124e8546",
   "metadata": {},
   "outputs": [],
   "source": [
    "df.drop(df['price'].nlargest(9).index,inplace = True)"
   ]
  },
  {
   "cell_type": "code",
   "execution_count": 13,
   "id": "5bc229a0",
   "metadata": {
    "scrolled": true
   },
   "outputs": [
    {
     "data": {
      "text/html": [
       "<div>\n",
       "<style scoped>\n",
       "    .dataframe tbody tr th:only-of-type {\n",
       "        vertical-align: middle;\n",
       "    }\n",
       "\n",
       "    .dataframe tbody tr th {\n",
       "        vertical-align: top;\n",
       "    }\n",
       "\n",
       "    .dataframe thead th {\n",
       "        text-align: right;\n",
       "    }\n",
       "</style>\n",
       "<table border=\"1\" class=\"dataframe\">\n",
       "  <thead>\n",
       "    <tr style=\"text-align: right;\">\n",
       "      <th></th>\n",
       "      <th>id</th>\n",
       "      <th>region</th>\n",
       "      <th>price</th>\n",
       "      <th>year</th>\n",
       "      <th>manufacturer</th>\n",
       "      <th>model</th>\n",
       "      <th>condition</th>\n",
       "      <th>cylinders</th>\n",
       "      <th>fuel</th>\n",
       "      <th>odometer</th>\n",
       "      <th>...</th>\n",
       "      <th>transmission</th>\n",
       "      <th>drive</th>\n",
       "      <th>size</th>\n",
       "      <th>type</th>\n",
       "      <th>paint_color</th>\n",
       "      <th>description</th>\n",
       "      <th>state</th>\n",
       "      <th>lat</th>\n",
       "      <th>long</th>\n",
       "      <th>posting_date</th>\n",
       "    </tr>\n",
       "  </thead>\n",
       "  <tbody>\n",
       "    <tr>\n",
       "      <th>314</th>\n",
       "      <td>7302105553</td>\n",
       "      <td>birmingham</td>\n",
       "      <td>1</td>\n",
       "      <td>2005.0</td>\n",
       "      <td>gmc</td>\n",
       "      <td>envoy</td>\n",
       "      <td>excellent</td>\n",
       "      <td>8 cylinders</td>\n",
       "      <td>gas</td>\n",
       "      <td>181000.0</td>\n",
       "      <td>...</td>\n",
       "      <td>automatic</td>\n",
       "      <td>4wd</td>\n",
       "      <td>full-size</td>\n",
       "      <td>SUV</td>\n",
       "      <td>white</td>\n",
       "      <td>Clean 2005 GMC Envoy $5,500  show contact info</td>\n",
       "      <td>al</td>\n",
       "      <td>33.505374</td>\n",
       "      <td>-86.852645</td>\n",
       "      <td>2021-04-05T11:16:20-0500</td>\n",
       "    </tr>\n",
       "    <tr>\n",
       "      <th>816</th>\n",
       "      <td>7316586926</td>\n",
       "      <td>anchorage / mat-su</td>\n",
       "      <td>1</td>\n",
       "      <td>2010.0</td>\n",
       "      <td>chevrolet</td>\n",
       "      <td>traverse lt awd</td>\n",
       "      <td>excellent</td>\n",
       "      <td>6 cylinders</td>\n",
       "      <td>gas</td>\n",
       "      <td>120000.0</td>\n",
       "      <td>...</td>\n",
       "      <td>automatic</td>\n",
       "      <td>4wd</td>\n",
       "      <td>mid-size</td>\n",
       "      <td>SUV</td>\n",
       "      <td>red</td>\n",
       "      <td>2010 Chevy Traverse Parting out, Many Body par...</td>\n",
       "      <td>ak</td>\n",
       "      <td>61.154900</td>\n",
       "      <td>-149.886600</td>\n",
       "      <td>2021-05-03T19:48:55-0800</td>\n",
       "    </tr>\n",
       "    <tr>\n",
       "      <th>1027</th>\n",
       "      <td>7313963942</td>\n",
       "      <td>anchorage / mat-su</td>\n",
       "      <td>10</td>\n",
       "      <td>2011.0</td>\n",
       "      <td>volkswagen</td>\n",
       "      <td>gti</td>\n",
       "      <td>good</td>\n",
       "      <td>4 cylinders</td>\n",
       "      <td>gas</td>\n",
       "      <td>119000.0</td>\n",
       "      <td>...</td>\n",
       "      <td>manual</td>\n",
       "      <td>fwd</td>\n",
       "      <td>mid-size</td>\n",
       "      <td>hatchback</td>\n",
       "      <td>custom</td>\n",
       "      <td>Up for sale is a 2011 Vw GTI. It’s got a 6spd ...</td>\n",
       "      <td>ak</td>\n",
       "      <td>61.592300</td>\n",
       "      <td>-149.395900</td>\n",
       "      <td>2021-04-28T10:49:04-0800</td>\n",
       "    </tr>\n",
       "    <tr>\n",
       "      <th>1091</th>\n",
       "      <td>7312230496</td>\n",
       "      <td>anchorage / mat-su</td>\n",
       "      <td>1</td>\n",
       "      <td>2010.0</td>\n",
       "      <td>chevrolet</td>\n",
       "      <td>traverse lt awd</td>\n",
       "      <td>excellent</td>\n",
       "      <td>6 cylinders</td>\n",
       "      <td>gas</td>\n",
       "      <td>120000.0</td>\n",
       "      <td>...</td>\n",
       "      <td>automatic</td>\n",
       "      <td>4wd</td>\n",
       "      <td>mid-size</td>\n",
       "      <td>SUV</td>\n",
       "      <td>red</td>\n",
       "      <td>2010 Chevy Traverse Parting out, Many Body par...</td>\n",
       "      <td>ak</td>\n",
       "      <td>61.154900</td>\n",
       "      <td>-149.886600</td>\n",
       "      <td>2021-04-24T21:52:24-0800</td>\n",
       "    </tr>\n",
       "    <tr>\n",
       "      <th>1488</th>\n",
       "      <td>7313988885</td>\n",
       "      <td>flagstaff / sedona</td>\n",
       "      <td>1</td>\n",
       "      <td>1955.0</td>\n",
       "      <td>ford</td>\n",
       "      <td>f-100</td>\n",
       "      <td>fair</td>\n",
       "      <td>6 cylinders</td>\n",
       "      <td>gas</td>\n",
       "      <td>70000.0</td>\n",
       "      <td>...</td>\n",
       "      <td>manual</td>\n",
       "      <td>rwd</td>\n",
       "      <td>full-size</td>\n",
       "      <td>truck</td>\n",
       "      <td>blue</td>\n",
       "      <td>1955 Ford F-100 all original  70k miles  Radio...</td>\n",
       "      <td>az</td>\n",
       "      <td>35.154500</td>\n",
       "      <td>-111.678900</td>\n",
       "      <td>2021-04-28T12:31:33-0700</td>\n",
       "    </tr>\n",
       "    <tr>\n",
       "      <th>...</th>\n",
       "      <td>...</td>\n",
       "      <td>...</td>\n",
       "      <td>...</td>\n",
       "      <td>...</td>\n",
       "      <td>...</td>\n",
       "      <td>...</td>\n",
       "      <td>...</td>\n",
       "      <td>...</td>\n",
       "      <td>...</td>\n",
       "      <td>...</td>\n",
       "      <td>...</td>\n",
       "      <td>...</td>\n",
       "      <td>...</td>\n",
       "      <td>...</td>\n",
       "      <td>...</td>\n",
       "      <td>...</td>\n",
       "      <td>...</td>\n",
       "      <td>...</td>\n",
       "      <td>...</td>\n",
       "      <td>...</td>\n",
       "      <td>...</td>\n",
       "    </tr>\n",
       "    <tr>\n",
       "      <th>72921</th>\n",
       "      <td>7315362197</td>\n",
       "      <td>eastern panhandle</td>\n",
       "      <td>1</td>\n",
       "      <td>1992.0</td>\n",
       "      <td>ford</td>\n",
       "      <td>ranger</td>\n",
       "      <td>good</td>\n",
       "      <td>4 cylinders</td>\n",
       "      <td>gas</td>\n",
       "      <td>77666.0</td>\n",
       "      <td>...</td>\n",
       "      <td>manual</td>\n",
       "      <td>rwd</td>\n",
       "      <td>compact</td>\n",
       "      <td>pickup</td>\n",
       "      <td>red</td>\n",
       "      <td>SORRY.</td>\n",
       "      <td>wv</td>\n",
       "      <td>39.475094</td>\n",
       "      <td>-77.870686</td>\n",
       "      <td>2021-05-01T12:54:08-0400</td>\n",
       "    </tr>\n",
       "    <tr>\n",
       "      <th>73958</th>\n",
       "      <td>7313630065</td>\n",
       "      <td>la crosse</td>\n",
       "      <td>1</td>\n",
       "      <td>1967.0</td>\n",
       "      <td>chevrolet</td>\n",
       "      <td>impala</td>\n",
       "      <td>fair</td>\n",
       "      <td>8 cylinders</td>\n",
       "      <td>gas</td>\n",
       "      <td>95000.0</td>\n",
       "      <td>...</td>\n",
       "      <td>automatic</td>\n",
       "      <td>rwd</td>\n",
       "      <td>full-size</td>\n",
       "      <td>coupe</td>\n",
       "      <td>white</td>\n",
       "      <td>1967 Chevy Impala Super Sport 2 door coupe 327...</td>\n",
       "      <td>wi</td>\n",
       "      <td>44.153982</td>\n",
       "      <td>-91.744251</td>\n",
       "      <td>2021-04-27T19:22:00-0500</td>\n",
       "    </tr>\n",
       "    <tr>\n",
       "      <th>74280</th>\n",
       "      <td>7312544166</td>\n",
       "      <td>madison</td>\n",
       "      <td>15</td>\n",
       "      <td>2018.0</td>\n",
       "      <td>chevrolet</td>\n",
       "      <td>equinox lt</td>\n",
       "      <td>excellent</td>\n",
       "      <td>4 cylinders</td>\n",
       "      <td>gas</td>\n",
       "      <td>72323.0</td>\n",
       "      <td>...</td>\n",
       "      <td>automatic</td>\n",
       "      <td>fwd</td>\n",
       "      <td>compact</td>\n",
       "      <td>SUV</td>\n",
       "      <td>white</td>\n",
       "      <td>Selling my 2018 Chevy equinox LT  FWD with pus...</td>\n",
       "      <td>wi</td>\n",
       "      <td>43.163600</td>\n",
       "      <td>-89.075300</td>\n",
       "      <td>2021-04-25T16:55:17-0500</td>\n",
       "    </tr>\n",
       "    <tr>\n",
       "      <th>74669</th>\n",
       "      <td>7316932276</td>\n",
       "      <td>milwaukee</td>\n",
       "      <td>1</td>\n",
       "      <td>2020.0</td>\n",
       "      <td>mercedes-benz</td>\n",
       "      <td>porsche. bmw. ect.</td>\n",
       "      <td>new</td>\n",
       "      <td>other</td>\n",
       "      <td>other</td>\n",
       "      <td>1.0</td>\n",
       "      <td>...</td>\n",
       "      <td>other</td>\n",
       "      <td>rwd</td>\n",
       "      <td>mid-size</td>\n",
       "      <td>other</td>\n",
       "      <td>custom</td>\n",
       "      <td>Professional import auto service. Specializing...</td>\n",
       "      <td>wi</td>\n",
       "      <td>43.050000</td>\n",
       "      <td>-88.397200</td>\n",
       "      <td>2021-05-04T15:44:30-0500</td>\n",
       "    </tr>\n",
       "    <tr>\n",
       "      <th>74970</th>\n",
       "      <td>7311482837</td>\n",
       "      <td>milwaukee</td>\n",
       "      <td>1</td>\n",
       "      <td>2008.0</td>\n",
       "      <td>buick</td>\n",
       "      <td>lacrosse premium</td>\n",
       "      <td>good</td>\n",
       "      <td>6 cylinders</td>\n",
       "      <td>gas</td>\n",
       "      <td>9000.0</td>\n",
       "      <td>...</td>\n",
       "      <td>automatic</td>\n",
       "      <td>fwd</td>\n",
       "      <td>mid-size</td>\n",
       "      <td>sedan</td>\n",
       "      <td>silver</td>\n",
       "      <td>We buy junk cars and trucks we pay best price ...</td>\n",
       "      <td>wi</td>\n",
       "      <td>42.716100</td>\n",
       "      <td>-87.823300</td>\n",
       "      <td>2021-04-23T13:33:04-0500</td>\n",
       "    </tr>\n",
       "  </tbody>\n",
       "</table>\n",
       "<p>1052 rows × 21 columns</p>\n",
       "</div>"
      ],
      "text/plain": [
       "               id              region  price    year   manufacturer  \\\n",
       "314    7302105553          birmingham      1  2005.0            gmc   \n",
       "816    7316586926  anchorage / mat-su      1  2010.0      chevrolet   \n",
       "1027   7313963942  anchorage / mat-su     10  2011.0     volkswagen   \n",
       "1091   7312230496  anchorage / mat-su      1  2010.0      chevrolet   \n",
       "1488   7313988885  flagstaff / sedona      1  1955.0           ford   \n",
       "...           ...                 ...    ...     ...            ...   \n",
       "72921  7315362197   eastern panhandle      1  1992.0           ford   \n",
       "73958  7313630065           la crosse      1  1967.0      chevrolet   \n",
       "74280  7312544166             madison     15  2018.0      chevrolet   \n",
       "74669  7316932276           milwaukee      1  2020.0  mercedes-benz   \n",
       "74970  7311482837           milwaukee      1  2008.0          buick   \n",
       "\n",
       "                    model  condition    cylinders   fuel  odometer  ...  \\\n",
       "314                 envoy  excellent  8 cylinders    gas  181000.0  ...   \n",
       "816       traverse lt awd  excellent  6 cylinders    gas  120000.0  ...   \n",
       "1027                  gti       good  4 cylinders    gas  119000.0  ...   \n",
       "1091      traverse lt awd  excellent  6 cylinders    gas  120000.0  ...   \n",
       "1488                f-100       fair  6 cylinders    gas   70000.0  ...   \n",
       "...                   ...        ...          ...    ...       ...  ...   \n",
       "72921              ranger       good  4 cylinders    gas   77666.0  ...   \n",
       "73958              impala       fair  8 cylinders    gas   95000.0  ...   \n",
       "74280          equinox lt  excellent  4 cylinders    gas   72323.0  ...   \n",
       "74669  porsche. bmw. ect.        new        other  other       1.0  ...   \n",
       "74970    lacrosse premium       good  6 cylinders    gas    9000.0  ...   \n",
       "\n",
       "      transmission drive       size       type paint_color  \\\n",
       "314      automatic   4wd  full-size        SUV       white   \n",
       "816      automatic   4wd   mid-size        SUV         red   \n",
       "1027        manual   fwd   mid-size  hatchback      custom   \n",
       "1091     automatic   4wd   mid-size        SUV         red   \n",
       "1488        manual   rwd  full-size      truck        blue   \n",
       "...            ...   ...        ...        ...         ...   \n",
       "72921       manual   rwd    compact     pickup         red   \n",
       "73958    automatic   rwd  full-size      coupe       white   \n",
       "74280    automatic   fwd    compact        SUV       white   \n",
       "74669        other   rwd   mid-size      other      custom   \n",
       "74970    automatic   fwd   mid-size      sedan      silver   \n",
       "\n",
       "                                             description state        lat  \\\n",
       "314       Clean 2005 GMC Envoy $5,500  show contact info    al  33.505374   \n",
       "816    2010 Chevy Traverse Parting out, Many Body par...    ak  61.154900   \n",
       "1027   Up for sale is a 2011 Vw GTI. It’s got a 6spd ...    ak  61.592300   \n",
       "1091   2010 Chevy Traverse Parting out, Many Body par...    ak  61.154900   \n",
       "1488   1955 Ford F-100 all original  70k miles  Radio...    az  35.154500   \n",
       "...                                                  ...   ...        ...   \n",
       "72921                                             SORRY.    wv  39.475094   \n",
       "73958  1967 Chevy Impala Super Sport 2 door coupe 327...    wi  44.153982   \n",
       "74280  Selling my 2018 Chevy equinox LT  FWD with pus...    wi  43.163600   \n",
       "74669  Professional import auto service. Specializing...    wi  43.050000   \n",
       "74970  We buy junk cars and trucks we pay best price ...    wi  42.716100   \n",
       "\n",
       "             long              posting_date  \n",
       "314    -86.852645  2021-04-05T11:16:20-0500  \n",
       "816   -149.886600  2021-05-03T19:48:55-0800  \n",
       "1027  -149.395900  2021-04-28T10:49:04-0800  \n",
       "1091  -149.886600  2021-04-24T21:52:24-0800  \n",
       "1488  -111.678900  2021-04-28T12:31:33-0700  \n",
       "...           ...                       ...  \n",
       "72921  -77.870686  2021-05-01T12:54:08-0400  \n",
       "73958  -91.744251  2021-04-27T19:22:00-0500  \n",
       "74280  -89.075300  2021-04-25T16:55:17-0500  \n",
       "74669  -88.397200  2021-05-04T15:44:30-0500  \n",
       "74970  -87.823300  2021-04-23T13:33:04-0500  \n",
       "\n",
       "[1052 rows x 21 columns]"
      ]
     },
     "execution_count": 13,
     "metadata": {},
     "output_type": "execute_result"
    }
   ],
   "source": [
    "df[df['price']<=100]"
   ]
  },
  {
   "cell_type": "code",
   "execution_count": 14,
   "id": "04d9d593",
   "metadata": {},
   "outputs": [],
   "source": [
    "df.drop(df[df['price']<=100].index, inplace = True)"
   ]
  },
  {
   "cell_type": "markdown",
   "id": "2e2a2a62",
   "metadata": {},
   "source": [
    "Postings with price under 100$ will be removed"
   ]
  },
  {
   "cell_type": "code",
   "execution_count": 15,
   "id": "13120a5f",
   "metadata": {},
   "outputs": [
    {
     "data": {
      "image/png": "[encoded data removed]",
      "text/plain": [
       "<Figure size 640x480 with 1 Axes>"
      ]
     },
     "metadata": {},
     "output_type": "display_data"
    }
   ],
   "source": [
    "sns.violinplot(y='price', data=df);"
   ]
  },
  {
   "cell_type": "markdown",
   "id": "9719ef73",
   "metadata": {},
   "source": [
    "### Title Status"
   ]
  },
  {
   "cell_type": "code",
   "execution_count": 16,
   "id": "830a85e4",
   "metadata": {},
   "outputs": [
    {
     "data": {
      "text/plain": [
       "clean         69878\n",
       "rebuilt        2652\n",
       "salvage        1113\n",
       "lien            679\n",
       "missing         167\n",
       "parts only       40\n",
       "Name: title_status, dtype: int64"
      ]
     },
     "execution_count": 16,
     "metadata": {},
     "output_type": "execute_result"
    }
   ],
   "source": [
    "df['title_status'].value_counts()"
   ]
  },
  {
   "cell_type": "markdown",
   "id": "1708cf86",
   "metadata": {},
   "source": [
    "Kept only 'clean' postings"
   ]
  },
  {
   "cell_type": "code",
   "execution_count": 17,
   "id": "de9520ad",
   "metadata": {},
   "outputs": [],
   "source": [
    "df = df[df['title_status'] == 'clean']\n",
    "df.drop('title_status', axis=1, inplace=True)"
   ]
  },
  {
   "cell_type": "markdown",
   "id": "29902f39",
   "metadata": {},
   "source": [
    "### Year"
   ]
  },
  {
   "cell_type": "code",
   "execution_count": 18,
   "id": "4c070efb",
   "metadata": {},
   "outputs": [
    {
     "data": {
      "text/plain": [
       "<Axes: xlabel='year', ylabel='Count'>"
      ]
     },
     "execution_count": 18,
     "metadata": {},
     "output_type": "execute_result"
    },
    {
     "data": {
      "image/png": "[encoded data removed]",
      "text/plain": [
       "<Figure size 1000x600 with 1 Axes>"
      ]
     },
     "metadata": {},
     "output_type": "display_data"
    }
   ],
   "source": [
    "sns.set(style='whitegrid')\n",
    "\n",
    "plt.figure(figsize=(10, 6))  \n",
    "sns.histplot(df['year'], kde=True, bins=30, color='blue')"
   ]
  },
  {
   "cell_type": "code",
   "execution_count": 21,
   "id": "73e95dac",
   "metadata": {},
   "outputs": [],
   "source": [
    "df = df[(df['year'] >= 1990) & (df['year']<2021)]"
   ]
  },
  {
   "cell_type": "markdown",
   "id": "26ca6241",
   "metadata": {},
   "source": [
    "Reduce postings to years 1991 to 2020 (30 years)"
   ]
  },
  {
   "cell_type": "code",
   "execution_count": 22,
   "id": "eaca6367",
   "metadata": {},
   "outputs": [
    {
     "data": {
      "text/plain": [
       "2013.0    4996\n",
       "2014.0    4461\n",
       "2012.0    4449\n",
       "2011.0    4297\n",
       "2008.0    4290\n",
       "2015.0    4113\n",
       "2007.0    3896\n",
       "2010.0    3584\n",
       "2006.0    3432\n",
       "2016.0    3359\n",
       "Name: year, dtype: int64"
      ]
     },
     "execution_count": 22,
     "metadata": {},
     "output_type": "execute_result"
    }
   ],
   "source": [
    "df['year'].value_counts().nlargest(10)"
   ]
  },
  {
   "cell_type": "markdown",
   "id": "ef9ef693",
   "metadata": {},
   "source": [
    "Peak of car postings for years bewteen 2011 and 2014"
   ]
  },
  {
   "cell_type": "markdown",
   "id": "2bdd2b39",
   "metadata": {},
   "source": [
    "### Manufacturers"
   ]
  },
  {
   "cell_type": "code",
   "execution_count": 24,
   "id": "2472f1a1",
   "metadata": {},
   "outputs": [
    {
     "data": {
      "text/plain": [
       "ford               13275\n",
       "chevrolet           9611\n",
       "toyota              6095\n",
       "honda               4217\n",
       "nissan              3367\n",
       "gmc                 2723\n",
       "jeep                2675\n",
       "ram                 2421\n",
       "dodge               1985\n",
       "bmw                 1884\n",
       "subaru              1665\n",
       "hyundai             1574\n",
       "mercedes-benz       1516\n",
       "volkswagen          1481\n",
       "kia                 1229\n",
       "chrysler            1178\n",
       "lexus               1103\n",
       "cadillac             977\n",
       "mazda                870\n",
       "buick                861\n",
       "audi                 812\n",
       "acura                617\n",
       "mitsubishi           552\n",
       "volvo                547\n",
       "lincoln              542\n",
       "pontiac              542\n",
       "infiniti             529\n",
       "mini                 389\n",
       "saturn               328\n",
       "mercury              310\n",
       "rover                281\n",
       "porsche              216\n",
       "jaguar               168\n",
       "fiat                 105\n",
       "harley-davidson       25\n",
       "tesla                 25\n",
       "alfa-romeo            19\n",
       "ferrari               10\n",
       "land rover             7\n",
       "aston-martin           5\n",
       "Name: manufacturer, dtype: int64"
      ]
     },
     "execution_count": 24,
     "metadata": {},
     "output_type": "execute_result"
    }
   ],
   "source": [
    "df['manufacturer'].value_counts()"
   ]
  }
 ],
 "metadata": {
  "kernelspec": {
   "display_name": "Python 3 (ipykernel)",
   "language": "python",
   "name": "python3"
  },
  "language_info": {
   "codemirror_mode": {
    "name": "ipython",
    "version": 3
   },
   "file_extension": ".py",
   "mimetype": "text/x-python",
   "name": "python",
   "nbconvert_exporter": "python",
   "pygments_lexer": "ipython3",
   "version": "3.11.3"
  }
 },
 "nbformat": 4,
 "nbformat_minor": 5
}
